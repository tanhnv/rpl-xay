{
 "cells": [
  {
   "cell_type": "markdown",
   "metadata": {},
   "source": [
    "# Tính toán tham số PDR và Latency cho 1 kênh    "
   ]
  },
  {
   "cell_type": "markdown",
   "metadata": {},
   "source": [
    "Tạo môi trường python2 cho pyspark trên docker vì mặc định `pyspark-notebook` chọn python3 làm mặc định"
   ]
  },
  {
   "cell_type": "code",
   "execution_count": 1,
   "metadata": {
    "collapsed": true
   },
   "outputs": [],
   "source": [
    "import os\n",
    "os.environ['PYSPARK_PYTHON'] = '/opt/conda/envs/python2/bin/python'"
   ]
  },
  {
   "cell_type": "markdown",
   "metadata": {},
   "source": [
    "## Import thư viện RDD của spark cho python và thư viện numpy"
   ]
  },
  {
   "cell_type": "code",
   "execution_count": 2,
   "metadata": {
    "collapsed": false
   },
   "outputs": [],
   "source": [
    "import pyspark\n",
    "from pyspark import SparkContext\n",
    "import numpy as np\n",
    "sc = SparkContext('local[*]')"
   ]
  },
  {
   "cell_type": "markdown",
   "metadata": {},
   "source": [
    "Load file **.csv** có định dạng là  **`Msg; TimeStamp; Id`**"
   ]
  },
  {
   "cell_type": "code",
   "execution_count": 3,
   "metadata": {
    "collapsed": true
   },
   "outputs": [],
   "source": [
    "# tf = sc.textFile('rlm_log_2_channel.csv')\n",
    "tf = sc.textFile('rlm-2-channels.csv')"
   ]
  },
  {
   "cell_type": "markdown",
   "metadata": {},
   "source": [
    "Sử dụng phép biến đổi map để biến đổi định dạng ban đầu thành \n",
    "<pre>\n",
    "|   Key  |       Value       |\n",
    "|--------|-------------------|\n",
    "|   Msg  | Msg; TimeStamp; Id|\n",
    "</pre>\n",
    "\n",
    "Sau đó groupBy các Msg với nhau và những Msg giống nhau thì value của nó sẽ append vào 1 list\n",
    "\n",
    "*Ví dụ*:\n",
    "<pre>\n",
    " (u'Hello 7 from the client 6',\n",
    "      [u'Hello 7 from the client 6;292614;6',\n",
    "       u'Hello 7 from the client 6;294122;1']),\n",
    " (u'Hello 7 from the client 7', \n",
    "      [u'Hello 7 from the client 7;272781;7']),\n",
    " (u'Hello 10 from the client 3',\n",
    "      [u'Hello 10 from the client 3;366856;3',\n",
    "       u'Hello 10 from the client 3;367274;9',\n",
    "       u'Hello 10 from the client 3;367589;1']),\n",
    " (u'Hello 4 from the client 9', \n",
    "      [u'Hello 4 from the client 9;200055;1']),\n",
    " (u'Hello 6 from the client 4', \n",
    "      [u'Hello 6 from the client 4;252735;4'])\n",
    "</pre>"
   ]
  },
  {
   "cell_type": "code",
   "execution_count": 4,
   "metadata": {
    "collapsed": false
   },
   "outputs": [],
   "source": [
    "rdd = tf.map(lambda x: (x.split(\";\")[0], x)).groupByKey().mapValues(list)"
   ]
  },
  {
   "cell_type": "markdown",
   "metadata": {},
   "source": [
    "Nhận thấy rằng khi `groupBy` theo `Msg`\n",
    "- tổng số **key** có nhiều hơn 1 **value** (chắc chắn trong các value có id = 1) thì đó là số lượng packet nhận được của **`node 1`**  => recv\n",
    "- tổng số **key** không có **value** đầu tiên có id = 1 thì đó là số lượng packet gửi đi của các node client => sent\n",
    "\n",
    "### Vậy PDR = 100 * recv / sent"
   ]
  },
  {
   "cell_type": "code",
   "execution_count": 5,
   "metadata": {
    "collapsed": false
   },
   "outputs": [
    {
     "name": "stdout",
     "output_type": "stream",
     "text": [
      "PDR =  0.88785046729\n"
     ]
    }
   ],
   "source": [
    "recv = rdd.filter(lambda x: len(x[1]) > 1).count()\n",
    "sent = rdd.filter(lambda x: x[1][0].split(\";\")[2] != \"1\").count()\n",
    "print 'PDR = ', recv / float(sent)"
   ]
  },
  {
   "cell_type": "markdown",
   "metadata": {},
   "source": [
    "### Tính Latency theo từng hop\n",
    "\n",
    "Nhận thấy rằng khi `groupBy` theo `Msg`\n",
    "\n",
    "- số **key** có 2 value là 1 hop\n",
    "- số **key** có 3 value là 2 hop\n",
    "\n",
    "==> Dùng phép biến đổi `filter` để lọc ra số hop"
   ]
  },
  {
   "cell_type": "code",
   "execution_count": 6,
   "metadata": {
    "collapsed": false
   },
   "outputs": [],
   "source": [
    "hopping1 = rdd.filter(lambda x: len(x[1]) == 2)\n",
    "hopping2 = rdd.filter(lambda x: len(x[1]) == 3)"
   ]
  },
  {
   "cell_type": "markdown",
   "metadata": {},
   "source": [
    "### Latency =  Thời gian packet bắt đầu nhận - Thời gian packet bắt đầu phát\n",
    "\n",
    "**Vì dữ liệu ban đầu đã được sắp xếp lần lượt theo thứ tự thời gian** nên độ trễ của\n",
    "- `1 hop` lấy thời gian của **value** thứ 2 trừ đi thời gian của **value** thứ nhất\n",
    "- `2 hop` lấy thời gian của **value** thứ 3 trừ đi thời gian của **value** thứ nhất (thời gian của **value** thứ 2 là thời gian nhận được của node trung gian để chuyển tiếp)\n",
    "\n",
    "Sau đó dùng hàm **`collect()`** để export kết quả của phép biến đổi **`map`** sang dạng mảng và lưu vào biến `latency1` và `latency2`"
   ]
  },
  {
   "cell_type": "code",
   "execution_count": 7,
   "metadata": {
    "collapsed": false
   },
   "outputs": [],
   "source": [
    "latency1 = hopping1.map(lambda x: int(x[1][1].split(\";\")[1]) - int(x[1][0].split(\";\")[1])).collect()\n",
    "latency2 = hopping2.map(lambda x: int(x[1][2].split(\";\")[1]) - int(x[1][0].split(\";\")[1])).collect()"
   ]
  },
  {
   "cell_type": "markdown",
   "metadata": {},
   "source": [
    "### Sử dụng thư viện numpy để tính trung bình, độ lệch chuẩn, phương sai cho độ trễ của 1 hop và 2 hop"
   ]
  },
  {
   "cell_type": "code",
   "execution_count": 8,
   "metadata": {
    "collapsed": false,
    "scrolled": true
   },
   "outputs": [
    {
     "name": "stdout",
     "output_type": "stream",
     "text": [
      "mean latency 1: 815.215686\n",
      "mean latency 2: 1345.863636\n",
      "Standard deviation latency 1: 1018.872740\n",
      "Standard deviation latency 2: 1001.668099\n",
      "Variance latency 1: 1038101.659362\n",
      "Variance latency 2: 1003338.981405\n"
     ]
    }
   ],
   "source": [
    "print 'mean latency 1: %f' % np.mean(latency1)\n",
    "print 'mean latency 2: %f' % np.mean(latency2)\n",
    "print 'Standard deviation latency 1: %f' % np.std(latency1)\n",
    "print 'Standard deviation latency 2: %f' % np.std(latency2)\n",
    "print 'Variance latency 1: %f' % np.var(latency1)\n",
    "print 'Variance latency 2: %f' % np.var(latency2)"
   ]
  },
  {
   "cell_type": "markdown",
   "metadata": {},
   "source": [
    "## Sử dụng plotly để vẽ kết quả ra đồ thị trên Jupyter notebook"
   ]
  },
  {
   "cell_type": "code",
   "execution_count": 9,
   "metadata": {
    "collapsed": false
   },
   "outputs": [
    {
     "data": {
      "text/html": [
       "<script>requirejs.config({paths: { 'plotly': ['https://cdn.plot.ly/plotly-latest.min']},});if(!window.Plotly) {{require(['plotly'],function(plotly) {window.Plotly=plotly;});}}</script>"
      ],
      "text/plain": [
       "<IPython.core.display.HTML object>"
      ]
     },
     "metadata": {},
     "output_type": "display_data"
    }
   ],
   "source": [
    "import plotly\n",
    "from plotly.graph_objs import Scatter, Layout, Bar, Figure, Layout\n",
    "\n",
    "from plotly import __version__\n",
    "from plotly.offline import download_plotlyjs, init_notebook_mode, plot, iplot\n",
    "# import numpy as np\n",
    "\n",
    "init_notebook_mode(connected=True)"
   ]
  },
  {
   "cell_type": "markdown",
   "metadata": {},
   "source": [
    "### Biểu đồ PDR và Latency"
   ]
  },
  {
   "cell_type": "code",
   "execution_count": 10,
   "metadata": {
    "collapsed": false
   },
   "outputs": [
    {
     "data": {
      "text/html": [
       "<div id=\"0b90680e-cc47-4206-8d98-7c6e1754ef65\" style=\"height: 525px; width: 100%;\" class=\"plotly-graph-div\"></div><script type=\"text/javascript\">require([\"plotly\"], function(Plotly) { window.PLOTLYENV=window.PLOTLYENV || {};window.PLOTLYENV.BASE_URL=\"https://plot.ly\";Plotly.newPlot(\"0b90680e-cc47-4206-8d98-7c6e1754ef65\", [{\"y\": [0.8878504672897196], \"x\": [\"PDR\"], \"type\": \"bar\", \"name\": \"Packet Delivery Rate\"}], {\"barmode\": \"group\", \"title\": \"Bi\\u1ec3u \\u0111\\u1ed3 PDR\"}, {\"linkText\": \"Export to plot.ly\", \"showLink\": true})});</script>"
      ],
      "text/plain": [
       "<IPython.core.display.HTML object>"
      ]
     },
     "metadata": {},
     "output_type": "display_data"
    },
    {
     "data": {
      "text/html": [
       "<div id=\"7adb9caf-b803-4cbd-855f-19a6b45fbc45\" style=\"height: 525px; width: 100%;\" class=\"plotly-graph-div\"></div><script type=\"text/javascript\">require([\"plotly\"], function(Plotly) { window.PLOTLYENV=window.PLOTLYENV || {};window.PLOTLYENV.BASE_URL=\"https://plot.ly\";Plotly.newPlot(\"7adb9caf-b803-4cbd-855f-19a6b45fbc45\", [{\"y\": [1060.9894736842105], \"x\": [\"Latency\"], \"type\": \"bar\", \"name\": \"Latency AVG\"}], {\"barmode\": \"group\", \"title\": \"Bi\\u1ec3u \\u0111\\u1ed3 Latency\"}, {\"linkText\": \"Export to plot.ly\", \"showLink\": true})});</script>"
      ],
      "text/plain": [
       "<IPython.core.display.HTML object>"
      ]
     },
     "metadata": {},
     "output_type": "display_data"
    }
   ],
   "source": [
    "trace1 = Bar(\n",
    "    x=['PDR'],\n",
    "    y=[recv / float(sent)],\n",
    "    name='Packet Delivery Rate'\n",
    ")\n",
    "\n",
    "data = [trace1]\n",
    "layout = Layout(\n",
    "    title = 'Biểu đồ PDR',\n",
    "    barmode = 'group'\n",
    ")\n",
    "fig = Figure(data=data, layout=layout)\n",
    "iplot(fig, filename='jupyter/PDR')\n",
    "\n",
    "\n",
    "trace2 = Bar(\n",
    "    x=['Latency'],\n",
    "    y=[np.mean(latency1 + latency2)],\n",
    "    name='Latency AVG'\n",
    ")\n",
    "\n",
    "data = [trace2]\n",
    "layout = Layout(\n",
    "    title = 'Biểu đồ Latency',\n",
    "    barmode = 'group'\n",
    ")\n",
    "fig = Figure(data=data, layout=layout)\n",
    "iplot(fig, filename='jupyter/Latency')"
   ]
  },
  {
   "cell_type": "markdown",
   "metadata": {},
   "source": [
    "### Biểu đồ so sánh giữa 1 Hop và 2 Hop"
   ]
  },
  {
   "cell_type": "code",
   "execution_count": 11,
   "metadata": {
    "collapsed": false
   },
   "outputs": [
    {
     "data": {
      "text/html": [
       "<div id=\"2583c5b9-39eb-46ba-9624-3388ff11024e\" style=\"height: 525px; width: 100%;\" class=\"plotly-graph-div\"></div><script type=\"text/javascript\">require([\"plotly\"], function(Plotly) { window.PLOTLYENV=window.PLOTLYENV || {};window.PLOTLYENV.BASE_URL=\"https://plot.ly\";Plotly.newPlot(\"2583c5b9-39eb-46ba-9624-3388ff11024e\", [{\"y\": [815.2156862745098, 1345.8636363636363], \"x\": [\"1 Hop\", \"2 Hop\"], \"type\": \"bar\", \"error_y\": {\"visible\": true, \"array\": [1018.8727395321674, 1001.6680994246341], \"type\": \"data\"}, \"name\": \"Number of hop\"}], {\"barmode\": \"group\", \"title\": \"Bi\\u1ec3u \\u0111\\u1ed3 so s\\u00e1nh gi\\u1eefa 1 Hop v\\u00e0 2 Hop\"}, {\"linkText\": \"Export to plot.ly\", \"showLink\": true})});</script>"
      ],
      "text/plain": [
       "<IPython.core.display.HTML object>"
      ]
     },
     "metadata": {},
     "output_type": "display_data"
    }
   ],
   "source": [
    "trace1 = Bar(\n",
    "    x=['1 Hop', '2 Hop',],\n",
    "    y=[np.mean(latency1), np.mean(latency2)],\n",
    "    name='Number of hop',\n",
    "    error_y=dict(\n",
    "        type='data',\n",
    "        array=[np.std(latency1), np.std(latency2)],\n",
    "        visible=True\n",
    "    )\n",
    ")\n",
    "\n",
    "data = [trace1]\n",
    "layout = Layout(\n",
    "    title = 'Biểu đồ so sánh giữa 1 Hop và 2 Hop',\n",
    "    barmode = 'group'\n",
    ")\n",
    "fig = Figure(data=data, layout=layout)\n",
    "iplot(fig, filename='jupyter/Latency-per-hop')"
   ]
  },
  {
   "cell_type": "markdown",
   "metadata": {},
   "source": [
    "### Biểu đồ độ trễ của từng packet theo từng hop"
   ]
  },
  {
   "cell_type": "code",
   "execution_count": 12,
   "metadata": {
    "collapsed": false
   },
   "outputs": [
    {
     "name": "stdout",
     "output_type": "stream",
     "text": [
      "Hop1 is :  [(u'6-284169', 74), (u'9-269338', 1346), (u'8-241834', 1103), (u'2-259881', 608), (u'9-287911', 430)]\n",
      "Hop2 is :  [(u'7-293296', 301), (u'3-378298', 1168), (u'7-377703', 81), (u'3-255419', 447), (u'5-264906', 524)]\n"
     ]
    },
    {
     "data": {
      "text/html": [
       "<div id=\"2fe5e1e8-49b9-4b81-813a-7eb5ad2f7140\" style=\"height: 525px; width: 100%;\" class=\"plotly-graph-div\"></div><script type=\"text/javascript\">require([\"plotly\"], function(Plotly) { window.PLOTLYENV=window.PLOTLYENV || {};window.PLOTLYENV.BASE_URL=\"https://plot.ly\";Plotly.newPlot(\"2fe5e1e8-49b9-4b81-813a-7eb5ad2f7140\", [{\"y\": [225, 608, 45, 528, 565, 652, 905, 1391, 55, 1358, 1239, 698, 7303, 379, 47, 858, 74, 1035, 151, 501, 165, 30, 421, 283, 600, 129, 104, 26, 815, 911, 1103, 791, 922, 935, 325, 934, 324, 1346, 430, 716, 1509, 1591, 1244, 1316, 1413, 906, 508, 772, 1155, 715, 520], \"x\": [\"2-215701\", \"2-259881\", \"2-283146\", \"2-305365\", \"2-333076\", \"2-368303\", \"2-421022\", \"2-438193\", \"2-473162\", \"2-483631\", \"2-529154\", \"2-554920\", \"2-589514\", \"2-630912\", \"6-217981\", \"6-241974\", \"6-284169\", \"6-330083\", \"6-333700\", \"6-378544\", \"6-396958\", \"6-440395\", \"6-480364\", \"6-490801\", \"6-527270\", \"6-552966\", \"6-576114\", \"6-616341\", \"6-638044\", \"8-231936\", \"8-241834\", \"8-300163\", \"8-325256\", \"8-332811\", \"8-366213\", \"8-416053\", \"9-233364\", \"9-269338\", \"9-287911\", \"9-318736\", \"9-354939\", \"9-385127\", \"9-393041\", \"9-430806\", \"9-463501\", \"9-501845\", \"9-533353\", \"9-544861\", \"9-584837\", \"9-603775\", \"9-644330\"], \"type\": \"scatter\", \"name\": \"1 Hop\", \"mode\": \"lines+markers\"}, {\"y\": [1046, 447, 837, 299, 681, 1168, 150, 1293, 767, 137, 220, 343, 630, 1116, 288, 1269, 524, 150, 1602, 63, 457, 997, 1238, 427, 745, 625, 58, 1514, 999, 218, 878, 933, 301, 1450, 447, 81, 85, 607, 1419, 726, 88, 796, 1060, 836], \"x\": [\"3-222028\", \"3-255419\", \"3-295388\", \"3-306856\", \"3-335903\", \"3-378298\", \"3-414841\", \"3-448802\", \"3-456895\", \"3-488005\", \"3-518192\", \"3-556536\", \"3-601653\", \"3-605372\", \"3-637310\", \"5-233891\", \"5-264906\", \"5-293867\", \"5-321844\", \"5-343563\", \"5-369235\", \"5-413258\", \"5-435719\", \"5-467641\", \"5-490024\", \"5-524618\", \"5-557977\", \"5-589313\", \"5-610008\", \"5-644422\", \"7-214523\", \"7-254827\", \"7-293296\", \"7-309804\", \"7-358734\", \"7-377703\", \"7-404500\", \"7-445179\", \"7-471273\", \"7-484578\", \"7-530726\", \"7-547570\", \"7-572531\", \"7-628249\"], \"type\": \"scatter\", \"name\": \"2 Hop\", \"mode\": \"lines+markers\"}], {}, {\"linkText\": \"Export to plot.ly\", \"showLink\": true})});</script>"
      ],
      "text/plain": [
       "<IPython.core.display.HTML object>"
      ]
     },
     "metadata": {},
     "output_type": "display_data"
    }
   ],
   "source": [
    "hop1 = hopping1.map(lambda x: (x[1][0].split(\";\")[2] + '-' + x[1][0].split(\";\")[1], (int(x[1][1].split(\";\")[1]) - int(x[1][0].split(\";\")[1]))))\n",
    "print 'Hop1 is : ', hop1.take(5)\n",
    "time2hop1 = hop1.sortByKey().map(lambda x: x[0]).collect()\n",
    "latency2hop1 = hop1.sortByKey().map(lambda x: x[1]).collect()\n",
    "\n",
    "hop2 = hopping2.map(lambda x: (x[1][0].split(\";\")[2] + '-' + x[1][0].split(\";\")[1], (int(x[1][1].split(\";\")[1]) - int(x[1][0].split(\";\")[1]))))\n",
    "print 'Hop2 is : ', hop2.take(5)\n",
    "time2hop2 = hop2.sortByKey().map(lambda x: x[0]).collect()\n",
    "latency2hop2 = hop2.sortByKey().map(lambda x: x[1]).collect()\n",
    "\n",
    "# draw to plotly\n",
    "trace1 = Scatter(\n",
    "    x = time2hop1,\n",
    "    y = latency2hop1,\n",
    "    mode = 'lines+markers',\n",
    "    name = \"1 Hop\"\n",
    ")\n",
    "trace2 = Scatter(\n",
    "    x = time2hop2,\n",
    "    y = latency2hop2,\n",
    "    mode = 'lines+markers',\n",
    "    name = \"2 Hop\"\n",
    ")\n",
    "data = [trace1, trace2]\n",
    "iplot(data, filename='jupyter/Latency-per-link')"
   ]
  },
  {
   "cell_type": "code",
   "execution_count": null,
   "metadata": {
    "collapsed": true
   },
   "outputs": [],
   "source": []
  }
 ],
 "metadata": {
  "kernelspec": {
   "display_name": "Python 2",
   "language": "python",
   "name": "python2"
  },
  "language_info": {
   "codemirror_mode": {
    "name": "ipython",
    "version": 2
   },
   "file_extension": ".py",
   "mimetype": "text/x-python",
   "name": "python",
   "nbconvert_exporter": "python",
   "pygments_lexer": "ipython2",
   "version": "2.7.12"
  }
 },
 "nbformat": 4,
 "nbformat_minor": 0
}
