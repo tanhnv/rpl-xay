{
 "cells": [
  {
   "cell_type": "markdown",
   "metadata": {},
   "source": [
    "# Vẽ biểu đồ và so sánh độ trễ theo từng hop, PDR theo số lượng kênh"
   ]
  },
  {
   "cell_type": "code",
   "execution_count": 1,
   "metadata": {
    "collapsed": true
   },
   "outputs": [],
   "source": [
    "import os\n",
    "os.environ['PYSPARK_PYTHON'] = '/opt/conda/envs/python2/bin/python'"
   ]
  },
  {
   "cell_type": "code",
   "execution_count": 2,
   "metadata": {
    "collapsed": true
   },
   "outputs": [],
   "source": [
    "import itertools\n",
    "import pyspark\n",
    "from pyspark import SparkContext\n",
    "sc = SparkContext('local[*]')"
   ]
  },
  {
   "cell_type": "code",
   "execution_count": 3,
   "metadata": {
    "collapsed": false
   },
   "outputs": [
    {
     "data": {
      "text/html": [
       "<script>requirejs.config({paths: { 'plotly': ['https://cdn.plot.ly/plotly-latest.min']},});if(!window.Plotly) {{require(['plotly'],function(plotly) {window.Plotly=plotly;});}}</script>"
      ],
      "text/plain": [
       "<IPython.core.display.HTML object>"
      ]
     },
     "metadata": {},
     "output_type": "display_data"
    }
   ],
   "source": [
    "import plotly\n",
    "from plotly.graph_objs import Scatter, Layout, Bar, Figure, Layout\n",
    "\n",
    "from plotly import __version__\n",
    "from plotly.offline import download_plotlyjs, init_notebook_mode, plot, iplot\n",
    "import numpy as np\n",
    "\n",
    "init_notebook_mode(connected=True)"
   ]
  },
  {
   "cell_type": "markdown",
   "metadata": {},
   "source": [
    "# Đọc và tính toán các thông số về độ trễ từ tập các file\n",
    "### Xử lý dữ liệu\n",
    "#### Tính toán các thông số về độ lệch chuẩn, tính trung bình, ..."
   ]
  },
  {
   "cell_type": "code",
   "execution_count": 4,
   "metadata": {
    "collapsed": false
   },
   "outputs": [
    {
     "name": "stdout",
     "output_type": "stream",
     "text": [
      "pdrs    :  [0.8235294117647058, 0.8878504672897196, 0.7478991596638656, 0.7478991596638656, 0.7317073170731707]\n",
      "means   :  [957.96938775510205, 1060.9894736842105, 950.02247191011236, 750.89887640449433, 677.16666666666663]\n",
      "stdevs  :  [958.08283752120644, 1044.9955275123314, 1031.8845090146722, 686.86046936824073, 430.55414551740438]\n",
      "means1  :  [798.84810126582283, 815.21568627450984, 794.60810810810813, 630.28378378378375, 630.01666666666665]\n",
      "stdevs1 :  [775.96926874760868, 1018.8727395321674, 863.29857378651218, 483.83226712364615, 450.15628736646073]\n",
      "means2  :  [1619.578947368421, 1345.8636363636363, 1716.7333333333333, 1345.9333333333334, 771.4666666666667]\n",
      "stdevs2 :  [1299.2148769156288, 1001.6680994246341, 1390.6790411721734, 1103.8631235599619, 370.82410325591775]\n"
     ]
    }
   ],
   "source": [
    "# filenames = [\n",
    "#             'orchestra_log_2_channel.csv', \n",
    "#             'orchestra_log_3_channel.csv', \n",
    "#             'orchestra_log_4_channel.csv', \n",
    "#             'orchestra_log_5_channel.csv'\n",
    "# #            ]\n",
    "#             ,\n",
    "# # filenames = [\n",
    "#             'rlm_log_2_channel.csv', \n",
    "#             'rlm_log_3_channel.csv', \n",
    "#             'rlm_log_4_channel_diff.csv', \n",
    "#             'rlm_log_5_channel.csv'\n",
    "#            ]\n",
    "filenames = [\n",
    "            'rlm-1-channels.csv',\n",
    "            'rlm-2-channels.csv',\n",
    "            'rlm-3-channels.csv',\n",
    "            'rlm-4-channels.csv',\n",
    "            'rlm-5-channels.csv'\n",
    "           ]\n",
    "\n",
    "means1hop = []\n",
    "stdevs1hop = []\n",
    "means2hop = []\n",
    "stdevs2hop = []\n",
    "\n",
    "means = []\n",
    "stdevs = []\n",
    "\n",
    "pdrs = []\n",
    "\n",
    "time2hop1s = []\n",
    "time2hop2s = []\n",
    "latency2hop1s = []\n",
    "latency2hop2s = []\n",
    "\n",
    "for filename in filenames:\n",
    "    tf = sc.textFile(filename)\n",
    "    rdd = tf.map(lambda x: (x.split(\";\")[0], x)).groupByKey().mapValues(list)\n",
    "    \n",
    "    # calc PDR\n",
    "    recv = rdd.filter(lambda x: len(x[1]) > 1).count()\n",
    "    sent = rdd.filter(lambda x: x[1][0].split(\";\")[2] != \"1\").count()\n",
    "    pdrs.append(recv / float(sent))\n",
    "    \n",
    "    # calc Latency\n",
    "    hopping1 = rdd.filter(lambda x: len(x[1]) == 2)\n",
    "    hopping2 = rdd.filter(lambda x: len(x[1]) == 3)\n",
    "    \n",
    "    # calc lantecy per packet\n",
    "    hop1 = hopping1.map(lambda x: (x[1][0].split(\";\")[2] + '-' + x[1][0].split(\";\")[1], (int(x[1][1].split(\";\")[1]) - int(x[1][0].split(\";\")[1]))))    \n",
    "    hop2 = hopping2.map(lambda x: (x[1][0].split(\";\")[2] + '-' + x[1][0].split(\";\")[1], (int(x[1][1].split(\";\")[1]) - int(x[1][0].split(\";\")[1]))))    \n",
    "    \n",
    "    time2hop1 = hop1.sortByKey().map(lambda x: x[0]).collect()\n",
    "    time2hop2 = hop2.sortByKey().map(lambda x: x[0]).collect()\n",
    "    latency2hop1 = hop1.sortByKey().map(lambda x: x[1]).collect()       \n",
    "    latency2hop2 = hop2.sortByKey().map(lambda x: x[1]).collect()\n",
    "\n",
    "    time2hop1s.append(time2hop1)\n",
    "    time2hop2s.append(time2hop2)\n",
    "    latency2hop1s.append(latency2hop1)\n",
    "    latency2hop2s.append(latency2hop2)\n",
    "    \n",
    "    # calc LATENCY mean, standard deviation\n",
    "    latency1 = hopping1.map(lambda x: int(x[1][1].split(\";\")[1]) - int(x[1][0].split(\";\")[1])).collect()\n",
    "    latency2 = hopping2.map(lambda x: int(x[1][2].split(\";\")[1]) - int(x[1][0].split(\";\")[1])).collect()\n",
    "    \n",
    "    means.append(np.mean(latency1 + latency2))\n",
    "    stdevs.append(np.std(latency1 + latency2))\n",
    "    \n",
    "    means1hop.append(np.mean(latency1))\n",
    "    means2hop.append(np.mean(latency2))\n",
    "    stdevs1hop.append(np.std(latency1))\n",
    "    stdevs2hop.append(np.std(latency2))\n",
    "    \n",
    "print 'pdrs    : ', pdrs\n",
    "print 'means   : ', means\n",
    "print 'stdevs  : ', stdevs\n",
    "print 'means1  : ', means1hop\n",
    "print 'stdevs1 : ', stdevs1hop\n",
    "print 'means2  : ', means2hop\n",
    "print 'stdevs2 : ', stdevs2hop"
   ]
  },
  {
   "cell_type": "markdown",
   "metadata": {},
   "source": [
    "# Vẽ đồ thị"
   ]
  },
  {
   "cell_type": "markdown",
   "metadata": {},
   "source": [
    "## Biểu đồ so sánh PDR"
   ]
  },
  {
   "cell_type": "code",
   "execution_count": 5,
   "metadata": {
    "collapsed": false
   },
   "outputs": [
    {
     "data": {
      "text/html": [
       "<div id=\"6d058335-140e-4273-bc1d-55a7c4e79956\" style=\"height: 525px; width: 100%;\" class=\"plotly-graph-div\"></div><script type=\"text/javascript\">require([\"plotly\"], function(Plotly) { window.PLOTLYENV=window.PLOTLYENV || {};window.PLOTLYENV.BASE_URL=\"https://plot.ly\";Plotly.newPlot(\"6d058335-140e-4273-bc1d-55a7c4e79956\", [{\"y\": [0.8235294117647058, 0.8878504672897196, 0.7478991596638656, 0.7478991596638656, 0.7317073170731707], \"x\": [\"rlm-1-channels.csv\", \"rlm-2-channels.csv\", \"rlm-3-channels.csv\", \"rlm-4-channels.csv\", \"rlm-5-channels.csv\"], \"type\": \"bar\", \"name\": \"PDR\"}], {\"barmode\": \"group\", \"title\": \"Bi\\u1ec3u \\u0111\\u1ed3 so s\\u00e1nh PDR\"}, {\"linkText\": \"Export to plot.ly\", \"showLink\": true})});</script>"
      ],
      "text/plain": [
       "<IPython.core.display.HTML object>"
      ]
     },
     "metadata": {},
     "output_type": "display_data"
    }
   ],
   "source": [
    "trace = Bar(\n",
    "    x = filenames,\n",
    "    y = pdrs,\n",
    "    name='PDR'\n",
    ")\n",
    "\n",
    "data = [trace]\n",
    "layout = Layout(\n",
    "    title = 'Biểu đồ so sánh PDR',\n",
    "    barmode = 'group'\n",
    ")\n",
    "fig = Figure(data=data, layout=layout)\n",
    "iplot(fig, filename='jupyter/PDR')"
   ]
  },
  {
   "cell_type": "markdown",
   "metadata": {},
   "source": [
    "## Biểu đồ so sánh Latency"
   ]
  },
  {
   "cell_type": "code",
   "execution_count": 6,
   "metadata": {
    "collapsed": false
   },
   "outputs": [
    {
     "data": {
      "text/html": [
       "<div id=\"49b6ceb9-ac72-485b-8211-9b05b2c1d738\" style=\"height: 525px; width: 100%;\" class=\"plotly-graph-div\"></div><script type=\"text/javascript\">require([\"plotly\"], function(Plotly) { window.PLOTLYENV=window.PLOTLYENV || {};window.PLOTLYENV.BASE_URL=\"https://plot.ly\";Plotly.newPlot(\"49b6ceb9-ac72-485b-8211-9b05b2c1d738\", [{\"y\": [957.969387755102, 1060.9894736842105, 950.0224719101124, 750.8988764044943, 677.1666666666666], \"x\": [\"rlm-1-channels.csv\", \"rlm-2-channels.csv\", \"rlm-3-channels.csv\", \"rlm-4-channels.csv\", \"rlm-5-channels.csv\"], \"type\": \"bar\", \"error_y\": {\"visible\": true, \"array\": [958.0828375212064, 1044.9955275123314, 1031.8845090146722, 686.8604693682407, 430.5541455174044], \"type\": \"data\"}, \"name\": \"Latency\"}], {\"barmode\": \"group\", \"title\": \"Bi\\u1ec3u \\u0111\\u1ed3 so s\\u00e1nh Latency\"}, {\"linkText\": \"Export to plot.ly\", \"showLink\": true})});</script>"
      ],
      "text/plain": [
       "<IPython.core.display.HTML object>"
      ]
     },
     "metadata": {},
     "output_type": "display_data"
    }
   ],
   "source": [
    "trace = Bar(\n",
    "    x = filenames,\n",
    "    y = means,\n",
    "    name='Latency',\n",
    "    error_y=dict(\n",
    "        type = 'data',\n",
    "        array = stdevs,\n",
    "        visible = True\n",
    "    )\n",
    ")\n",
    "data = [trace]\n",
    "layout = Layout(\n",
    "    title = 'Biểu đồ so sánh Latency',\n",
    "    barmode = 'group'\n",
    ")\n",
    "fig = Figure(data=data, layout=layout)\n",
    "iplot(fig, filename='jupyter/Latency')"
   ]
  },
  {
   "cell_type": "markdown",
   "metadata": {},
   "source": [
    "## Biểu đồ so sánh độ trễ theo từng hop"
   ]
  },
  {
   "cell_type": "code",
   "execution_count": 7,
   "metadata": {
    "collapsed": false
   },
   "outputs": [
    {
     "data": {
      "text/html": [
       "<div id=\"d75d0083-358d-4a34-b906-b377b319d262\" style=\"height: 525px; width: 100%;\" class=\"plotly-graph-div\"></div><script type=\"text/javascript\">require([\"plotly\"], function(Plotly) { window.PLOTLYENV=window.PLOTLYENV || {};window.PLOTLYENV.BASE_URL=\"https://plot.ly\";Plotly.newPlot(\"d75d0083-358d-4a34-b906-b377b319d262\", [{\"y\": [798.8481012658228, 815.2156862745098, 794.6081081081081, 630.2837837837837, 630.0166666666667], \"x\": [\"rlm-1-channels.csv\", \"rlm-2-channels.csv\", \"rlm-3-channels.csv\", \"rlm-4-channels.csv\", \"rlm-5-channels.csv\"], \"type\": \"bar\", \"error_y\": {\"visible\": true, \"array\": [775.9692687476087, 1018.8727395321674, 863.2985737865122, 483.83226712364615, 450.15628736646073], \"type\": \"data\"}, \"name\": \"1 hopping\"}, {\"y\": [1619.578947368421, 1345.8636363636363, 1716.7333333333333, 1345.9333333333334, 771.4666666666667], \"x\": [\"rlm-1-channels.csv\", \"rlm-2-channels.csv\", \"rlm-3-channels.csv\", \"rlm-4-channels.csv\", \"rlm-5-channels.csv\"], \"type\": \"bar\", \"error_y\": {\"visible\": true, \"array\": [1299.2148769156288, 1001.6680994246341, 1390.6790411721734, 1103.8631235599619, 370.82410325591775], \"type\": \"data\"}, \"name\": \"2 hopping\"}], {\"barmode\": \"group\", \"title\": \"Bi\\u1ec3u \\u0111\\u1ed3 so s\\u00e1nh \\u0111\\u1ed9 tr\\u1ec5 theo t\\u1eebng hop\"}, {\"linkText\": \"Export to plot.ly\", \"showLink\": true})});</script>"
      ],
      "text/plain": [
       "<IPython.core.display.HTML object>"
      ]
     },
     "metadata": {},
     "output_type": "display_data"
    }
   ],
   "source": [
    "trace1 = Bar(\n",
    "    x = filenames,\n",
    "    y = means1hop,\n",
    "    name='1 hopping',\n",
    "    error_y=dict(\n",
    "        type = 'data',\n",
    "        array = stdevs1hop,\n",
    "        visible = True\n",
    "    )\n",
    ")\n",
    "trace2 = Bar(\n",
    "    x = filenames,\n",
    "    y = means2hop,\n",
    "    name='2 hopping',\n",
    "    error_y=dict(\n",
    "        type = 'data',\n",
    "        array = stdevs2hop,\n",
    "        visible = True\n",
    "    )\n",
    ")\n",
    "\n",
    "data = [trace1, trace2]\n",
    "layout = Layout(\n",
    "    title = 'Biểu đồ so sánh độ trễ theo từng hop',\n",
    "    barmode = 'group'\n",
    ")\n",
    "fig = Figure(data=data, layout=layout)\n",
    "iplot(fig, filename='jupyter/Latency-per-hop')"
   ]
  },
  {
   "cell_type": "markdown",
   "metadata": {
    "collapsed": true
   },
   "source": [
    "## Biểu đồ so sánh độ trễ theo từng gói của 1 hop và 2 hop"
   ]
  },
  {
   "cell_type": "code",
   "execution_count": 23,
   "metadata": {
    "collapsed": false
   },
   "outputs": [
    {
     "data": {
      "text/html": [
       "<div id=\"c7d32249-7af5-4598-8a3f-5701993dec79\" style=\"height: 525px; width: 100%;\" class=\"plotly-graph-div\"></div><script type=\"text/javascript\">require([\"plotly\"], function(Plotly) { window.PLOTLYENV=window.PLOTLYENV || {};window.PLOTLYENV.BASE_URL=\"https://plot.ly\";Plotly.newPlot(\"c7d32249-7af5-4598-8a3f-5701993dec79\", [{\"y\": [429, 815, 764, 1277, 2167, 1067, 843, 171, 1343, 311, 987, 1508, 299, 836, 821, 620, 42, 2352, 3658, 354, 1632, 455, 1343, 1700, 275, 123, 664, 1065, 402, 1374, 85, 1061, 1500, 959, 3125, 302, 63, 1508, 755, 133, 186, 2781, 451, 167, 59, 698, 612, 1072, 1288, 119, 476, 519, 438, 756, 88, 401, 109, 202, 41, 639, 1527, 888, 473, 684, 524, 85, 446, 127, 167, 1424, 3490, 242, 192, 557, 87, 964, 718, 122, 102], \"x\": [\"2-212974\", \"2-252107\", \"2-275701\", \"2-324796\", \"2-342404\", \"2-365366\", \"2-421084\", \"2-441935\", \"2-481123\", \"2-504857\", \"2-534451\", \"2-559154\", \"2-575498\", \"2-611116\", \"4-202493\", \"4-217829\", \"4-245313\", \"4-288407\", \"4-304758\", \"4-345899\", \"4-372368\", \"4-406337\", \"4-426470\", \"4-458064\", \"4-503212\", \"4-531111\", \"4-554954\", \"4-582299\", \"4-605665\", \"4-637485\", \"5-403344\", \"5-442938\", \"5-455321\", \"5-485922\", \"5-534625\", \"6-216254\", \"6-269465\", \"6-292614\", \"6-303247\", \"6-356840\", \"6-363934\", \"6-401489\", \"6-426731\", \"6-474942\", \"6-510364\", \"6-537262\", \"6-550801\", \"6-597637\", \"6-627481\", \"8-233359\", \"8-266530\", \"8-293498\", \"8-301882\", \"8-331834\", \"8-389678\", \"8-407022\", \"8-445256\", \"8-477850\", \"8-508280\", \"8-515249\", \"8-544631\", \"8-594983\", \"8-617155\", \"8-640592\", \"9-238525\", \"9-266080\", \"9-295673\", \"9-304400\", \"9-344720\", \"9-380564\", \"9-401095\", \"9-432931\", \"9-475127\", \"9-493470\", \"9-518009\", \"9-552447\", \"9-582962\", \"9-604683\", \"9-646955\"], \"type\": \"scatter\", \"name\": \"1 Hop rlm-1-channels.csv\", \"mode\": \"lines+markers\"}, {\"y\": [225, 608, 45, 528, 565, 652, 905, 1391, 55, 1358, 1239, 698, 7303, 379, 47, 858, 74, 1035, 151, 501, 165, 30, 421, 283, 600, 129, 104, 26, 815, 911, 1103, 791, 922, 935, 325, 934, 324, 1346, 430, 716, 1509, 1591, 1244, 1316, 1413, 906, 508, 772, 1155, 715, 520], \"x\": [\"2-215701\", \"2-259881\", \"2-283146\", \"2-305365\", \"2-333076\", \"2-368303\", \"2-421022\", \"2-438193\", \"2-473162\", \"2-483631\", \"2-529154\", \"2-554920\", \"2-589514\", \"2-630912\", \"6-217981\", \"6-241974\", \"6-284169\", \"6-330083\", \"6-333700\", \"6-378544\", \"6-396958\", \"6-440395\", \"6-480364\", \"6-490801\", \"6-527270\", \"6-552966\", \"6-576114\", \"6-616341\", \"6-638044\", \"8-231936\", \"8-241834\", \"8-300163\", \"8-325256\", \"8-332811\", \"8-366213\", \"8-416053\", \"9-233364\", \"9-269338\", \"9-287911\", \"9-318736\", \"9-354939\", \"9-385127\", \"9-393041\", \"9-430806\", \"9-463501\", \"9-501845\", \"9-533353\", \"9-544861\", \"9-584837\", \"9-603775\", \"9-644330\"], \"type\": \"scatter\", \"name\": \"1 Hop rlm-2-channels.csv\", \"mode\": \"lines+markers\"}, {\"y\": [810, 1652, 710, 2923, 640, 5524, 729, 1008, 1286, 737, 331, 1134, 765, 325, 430, 170, 561, 418, 197, 1530, 196, 935, 475, 166, 808, 496, 1159, 535, 1305, 750, 84, 590, 342, 766, 512, 231, 316, 978, 1530, 103, 1017, 261, 999, 399, 215, 245, 61, 581, 1147, 725, 347, 92, 285, 336, 1642, 138, 640, 443, 96, 988, 866, 724, 1963, 1029, 4268, 396, 304, 617, 163, 1537, 166, 479, 1415, 60], \"x\": [\"2-207443\", \"2-218373\", \"2-252107\", \"2-285209\", \"2-327851\", \"2-343146\", \"2-363076\", \"2-410724\", \"2-438193\", \"2-457240\", \"2-492960\", \"2-529154\", \"2-545498\", \"2-591342\", \"2-608054\", \"2-649514\", \"4-210751\", \"4-237790\", \"4-256509\", \"4-289649\", \"4-306118\", \"4-333126\", \"4-367219\", \"4-404524\", \"4-434993\", \"4-452962\", \"4-504430\", \"4-520188\", \"4-569868\", \"4-583876\", \"4-613970\", \"6-211973\", \"6-265192\", \"6-300083\", \"6-303700\", \"6-348544\", \"6-366958\", \"6-395724\", \"6-422919\", \"6-459661\", \"6-499106\", \"6-528450\", \"6-564708\", \"6-582966\", \"6-606692\", \"8-233233\", \"8-241405\", \"8-300163\", \"8-329866\", \"8-332811\", \"8-389944\", \"8-409538\", \"8-441717\", \"8-478241\", \"8-501319\", \"8-512913\", \"8-570007\", \"8-586600\", \"8-614694\", \"8-640288\", \"9-239338\", \"9-247048\", \"9-284697\", \"9-324939\", \"9-342931\", \"9-386111\", \"9-417314\", \"9-434658\", \"9-458025\", \"9-501845\", \"9-537689\", \"9-555033\", \"9-579322\", \"9-604220\"], \"type\": \"scatter\", \"name\": \"1 Hop rlm-3-channels.csv\", \"mode\": \"lines+markers\"}, {\"y\": [219, 1237, 1515, 99, 497, 512, 53, 1346, 292, 902, 497, 632, 514, 1670, 1436, 163, 696, 1295, 651, 1055, 237, 290, 1307, 515, 291, 699, 1465, 1106, 1247, 1378, 73, 152, 77, 343, 788, 260, 690, 726, 494, 407, 59, 296, 81, 301, 238, 339, 102, 800, 744, 395, 104, 563, 55, 655, 527, 541, 587, 215, 369, 244, 815, 96, 559, 179, 1032, 1633, 803, 1165, 2467, 536, 639, 148, 813, 715], \"x\": [\"2-212974\", \"2-247271\", \"2-272217\", \"2-321560\", \"2-354795\", \"2-377482\", \"2-393076\", \"2-428779\", \"2-481123\", \"2-487240\", \"2-522959\", \"2-558139\", \"2-574232\", \"2-622685\", \"2-638053\", \"4-218391\", \"4-260634\", \"4-276852\", \"4-305243\", \"4-352766\", \"4-379649\", \"4-402298\", \"4-425665\", \"4-474384\", \"4-487220\", \"4-532321\", \"4-541540\", \"4-582259\", \"4-622477\", \"4-645048\", \"6-234036\", \"6-246254\", \"6-283325\", \"6-314169\", \"6-343153\", \"6-384356\", \"6-393700\", \"6-423934\", \"6-456958\", \"6-499926\", \"6-515724\", \"6-542919\", \"6-597262\", \"6-606817\", \"6-647239\", \"8-239866\", \"8-267850\", \"8-299944\", \"8-305045\", \"8-347225\", \"8-377155\", \"8-406124\", \"8-424920\", \"8-474139\", \"8-495077\", \"8-520288\", \"8-545467\", \"8-593975\", \"8-601178\", \"8-641663\", \"9-211853\", \"9-255454\", \"9-281056\", \"9-316751\", \"9-351212\", \"9-377517\", \"9-403572\", \"9-431798\", \"9-462447\", \"9-492966\", \"9-538267\", \"9-560619\", \"9-573408\", \"9-603775\"], \"type\": \"scatter\", \"name\": \"1 Hop rlm-4-channels.csv\", \"mode\": \"lines+markers\"}, {\"y\": [538, 466, 1251, 151, 159, 101, 158, 975, 742, 1247, 60, 334, 201, 731, 759, 197, 753, 562, 561, 466, 396, 994, 556, 164, 599, 495, 796, 115, 181, 169, 648, 737, 1513, 396, 2312, 1554, 1493, 542, 432, 847, 174, 657, 525, 145, 850, 628, 643, 479, 1438, 1194, 301, 849, 88, 639, 1221, 225, 997, 683, 638, 76], \"x\": [\"2-213076\", \"2-262756\", \"2-294763\", \"2-324451\", \"2-342310\", \"2-379154\", \"2-394232\", \"2-441342\", \"2-472685\", \"2-486474\", \"2-518771\", \"2-563061\", \"2-599349\", \"2-628248\", \"6-209176\", \"6-216254\", \"6-241974\", \"6-292614\", \"6-324356\", \"6-333700\", \"6-378544\", \"6-408216\", \"6-440395\", \"6-467903\", \"6-490801\", \"6-527270\", \"6-557239\", \"6-595757\", \"6-610825\", \"6-636692\", \"8-204452\", \"8-239678\", \"8-269171\", \"8-272811\", \"8-306209\", \"8-347327\", \"8-365045\", \"8-396265\", \"8-431690\", \"8-479202\", \"8-484920\", \"8-520592\", \"8-558561\", \"8-580803\", \"8-602799\", \"8-643381\", \"9-233361\", \"9-257908\", \"9-284697\", \"9-310165\", \"9-336283\", \"9-373572\", \"9-393041\", \"9-431798\", \"9-461486\", \"9-492962\", \"9-514681\", \"9-557877\", \"9-595759\", \"9-627642\"], \"type\": \"scatter\", \"name\": \"1 Hop rlm-5-channels.csv\", \"mode\": \"lines+markers\"}], {}, {\"linkText\": \"Export to plot.ly\", \"showLink\": true})});</script>"
      ],
      "text/plain": [
       "<IPython.core.display.HTML object>"
      ]
     },
     "metadata": {},
     "output_type": "display_data"
    },
    {
     "data": {
      "text/html": [
       "<div id=\"1c2c3647-a7c8-42ef-9a09-0be90c1315e3\" style=\"height: 525px; width: 100%;\" class=\"plotly-graph-div\"></div><script type=\"text/javascript\">require([\"plotly\"], function(Plotly) { window.PLOTLYENV=window.PLOTLYENV || {};window.PLOTLYENV.BASE_URL=\"https://plot.ly\";Plotly.newPlot(\"1c2c3647-a7c8-42ef-9a09-0be90c1315e3\", [{\"y\": [1294, 1593, 97, 1164, 357, 66, 418, 959, 1291, 58, 81, 2299, 112, 2202, 1104, 964, 3785, 645, 4406], \"x\": [\"3-208747\", \"3-216225\", \"3-250513\", \"3-282028\", \"3-305747\", \"3-351442\", \"3-366856\", \"3-401630\", \"3-438294\", \"3-474841\", \"3-497731\", \"3-518005\", \"3-569169\", \"3-597138\", \"3-617575\", \"3-635373\", \"5-564235\", \"5-589657\", \"5-616375\"], \"type\": \"scatter\", \"name\": \"2 Hop rlm-1-channels.csv\", \"mode\": \"lines+markers\"}, {\"y\": [1046, 447, 837, 299, 681, 1168, 150, 1293, 767, 137, 220, 343, 630, 1116, 288, 1269, 524, 150, 1602, 63, 457, 997, 1238, 427, 745, 625, 58, 1514, 999, 218, 878, 933, 301, 1450, 447, 81, 85, 607, 1419, 726, 88, 796, 1060, 836], \"x\": [\"3-222028\", \"3-255419\", \"3-295388\", \"3-306856\", \"3-335903\", \"3-378298\", \"3-414841\", \"3-448802\", \"3-456895\", \"3-488005\", \"3-518192\", \"3-556536\", \"3-601653\", \"3-605372\", \"3-637310\", \"5-233891\", \"5-264906\", \"5-293867\", \"5-321844\", \"5-343563\", \"5-369235\", \"5-413258\", \"5-435719\", \"5-467641\", \"5-490024\", \"5-524618\", \"5-557977\", \"5-589313\", \"5-610008\", \"5-644422\", \"7-214523\", \"7-254827\", \"7-293296\", \"7-309804\", \"7-358734\", \"7-377703\", \"7-404500\", \"7-445179\", \"7-471273\", \"7-484578\", \"7-530726\", \"7-547570\", \"7-572531\", \"7-628249\"], \"type\": \"scatter\", \"name\": \"2 Hop rlm-2-channels.csv\", \"mode\": \"lines+markers\"}, {\"y\": [233, 912, 3828, 1216, 1125, 2079, 114, 283, 521, 431, 1024, 901, 1166, 180, 1125], \"x\": [\"5-208336\", \"5-229203\", \"5-261602\", \"5-289438\", \"5-310024\", \"5-341547\", \"5-364532\", \"5-399993\", \"5-431391\", \"5-459543\", \"5-486383\", \"5-519297\", \"5-561914\", \"5-586758\", \"5-626172\"], \"type\": \"scatter\", \"name\": \"2 Hop rlm-3-channels.csv\", \"mode\": \"lines+markers\"}, {\"y\": [319, 237, 387, 113, 389, 741, 58, 913, 829, 309, 608, 1137, 573, 922, 677], \"x\": [\"3-234841\", \"3-257731\", \"3-282700\", \"3-313348\", \"3-338192\", \"3-391653\", \"3-407575\", \"3-436044\", \"3-474911\", \"3-504755\", \"3-537247\", \"3-564466\", \"3-601185\", \"3-615130\", \"3-643122\"], \"type\": \"scatter\", \"name\": \"2 Hop rlm-4-channels.csv\", \"mode\": \"lines+markers\"}, {\"y\": [122, 424, 138, 292, 336, 239, 467, 227, 129, 425, 182, 260, 261, 759, 194, 485, 151, 88, 43, 33, 386, 47, 59, 804, 612, 293, 866, 1030, 95, 359], \"x\": [\"5-220009\", \"5-243250\", \"5-296086\", \"5-323680\", \"5-335828\", \"5-377125\", \"5-421461\", \"5-425064\", \"5-468149\", \"5-504743\", \"5-541141\", \"5-566289\", \"5-583524\", \"5-612875\", \"5-650016\", \"7-224585\", \"7-255609\", \"7-300656\", \"7-308374\", \"7-343593\", \"7-378554\", \"7-399914\", \"7-448249\", \"7-471468\", \"7-501929\", \"7-533359\", \"7-552124\", \"7-592320\", \"7-616062\", \"7-644281\"], \"type\": \"scatter\", \"name\": \"2 Hop rlm-5-channels.csv\", \"mode\": \"lines+markers\"}], {}, {\"linkText\": \"Export to plot.ly\", \"showLink\": true})});</script>"
      ],
      "text/plain": [
       "<IPython.core.display.HTML object>"
      ]
     },
     "metadata": {},
     "output_type": "display_data"
    }
   ],
   "source": [
    "data = []\n",
    "for time2hop, latency2hop, filename in itertools.izip(time2hop1s, latency2hop1s, filenames):\n",
    "    trace1 = Scatter(\n",
    "        x = time2hop,\n",
    "        y = latency2hop,\n",
    "        mode = 'lines+markers',\n",
    "        name = \"1 Hop \" + filename\n",
    "    )\n",
    "    data.append(trace1)\n",
    "iplot(data, filename='jupyter/Latency-per-packet-1-hop')\n",
    "\n",
    "data = []\n",
    "for time2hop, latency2hop, filename in itertools.izip(time2hop2s, latency2hop2s, filenames):\n",
    "    trace2 = Scatter(\n",
    "        x = time2hop,\n",
    "        y = latency2hop,\n",
    "        mode = 'lines+markers',\n",
    "        name = \"2 Hop \" + filename\n",
    "    )\n",
    "    data.append(trace2)\n",
    "\n",
    "iplot(data, filename='jupyter/Latency-per-packet-2-hop')"
   ]
  }
 ],
 "metadata": {
  "kernelspec": {
   "display_name": "Python 2",
   "language": "python",
   "name": "python2"
  },
  "language_info": {
   "codemirror_mode": {
    "name": "ipython",
    "version": 2
   },
   "file_extension": ".py",
   "mimetype": "text/x-python",
   "name": "python",
   "nbconvert_exporter": "python",
   "pygments_lexer": "ipython2",
   "version": "2.7.12"
  }
 },
 "nbformat": 4,
 "nbformat_minor": 0
}
